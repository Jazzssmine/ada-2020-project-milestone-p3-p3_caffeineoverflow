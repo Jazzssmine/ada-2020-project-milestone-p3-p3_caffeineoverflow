{
 "cells": [
  {
   "cell_type": "markdown",
   "metadata": {},
   "source": [
    "## How to Maximize an Original Post's Retweet Count\n",
    "\n",
    "by CaffeineOverflow."
   ]
  },
  {
   "cell_type": "markdown",
   "metadata": {},
   "source": [
    "### Context\n",
    "\n",
    "Twitter, as an online social media platform, is a place where we relax ourselves, interact with others and know what’s happening around the world. Also, over the past few years, it has been a distinct social medium where the president of the United States communicates with the public. Thus it’s without doubt an indispensable part of many people’s daily life. Naturally, we’d like to figure out what one can do to make a tweet seen by more people and to gain more interactions, and thus to make oneself more influential. \n",
    "\n",
    "Here we mainly focus on **analyzing the factors that covary with the original post's retweet count**. In the original paper, they analyzed information diffusion at user and tweet level. *At the user level*, they emplyed multilevel generalized models for predicting retweetability and retweet count received by the original tweets. The results show us <u>the number of followers/ followees are positively associated with retweet count while the number of reciprocal ties are negatively correlated</u>. However, the results only tell us they are positively/negatively correlated. We still have little idea of how exactly are they correlated: for example, **is the retweet count linearly increase with the number of followers? Is there certain \"threshold effect\"?** Also, we are interested in **whether posting in English - an international language - helps in getting more retweet count**. If that is the case, one might choose to post in English! *At the tweet level*, they found that <u>the presence of hashtags is positively correlated and the presences of URLs and mentions are negatively correlated</u>. This is something interesting! It suggests posting with a hashtag! However, one might also be interested to know **when is the best to post**. A hint is suggested by the paper that <u>users are more active in weekdays than on weekends and during a day, 8pm is when the number of active users reach the peak</u>. Well, is it really that posts posted at 8pm get the most retweet count on average?\n",
    "\n",
    "Let's explore together!"
   ]
  },
  {
   "cell_type": "markdown",
   "metadata": {},
   "source": [
    "## The Data\n",
    "\n",
    "**EgoTimelines**: The dataset contains ego users’ dynamic activities, including posting original tweets, retweeting, replying and @-mentioning. It also contains information about the number of retweets, presence of URLs and presence of hashtags for each tweet. The dataset is ideal to analyze the contributions of factors at the post level to the post’s influence.\n",
    "\n",
    "**EgoAlterProfiles**: The dataset contains sampled users profiles, including the number of followers, languages, account created time, etc. Combined with the “retweet_count” term in EgoTimelines dataset we can analyze the effect of the number of followers and language (factors on the user level) on the post’s influence.\n",
    "\n",
    "**EgoNetwork**: This dataset contains all pairs of ego-alter relationships, where the number of followees for each ego users can be calculated and further analyzed."
   ]
  },
  {
   "cell_type": "code",
   "execution_count": 1,
   "metadata": {},
   "outputs": [],
   "source": [
    "import pandas as pd\n",
    "import numpy as np\n",
    "import matplotlib.pyplot as plt\n",
    "import seaborn as sns\n",
    "import math"
   ]
  },
  {
   "cell_type": "markdown",
   "metadata": {},
   "source": [
    "### Step1: read in relative dataset and preprocess"
   ]
  },
  {
   "cell_type": "code",
   "execution_count": 2,
   "metadata": {},
   "outputs": [
    {
     "data": {
      "text/html": [
       "<div>\n",
       "<style scoped>\n",
       "    .dataframe tbody tr th:only-of-type {\n",
       "        vertical-align: middle;\n",
       "    }\n",
       "\n",
       "    .dataframe tbody tr th {\n",
       "        vertical-align: top;\n",
       "    }\n",
       "\n",
       "    .dataframe thead th {\n",
       "        text-align: right;\n",
       "    }\n",
       "</style>\n",
       "<table border=\"1\" class=\"dataframe\">\n",
       "  <thead>\n",
       "    <tr style=\"text-align: right;\">\n",
       "      <th></th>\n",
       "      <th>ID</th>\n",
       "      <th>IsEgo</th>\n",
       "      <th>followers_count</th>\n",
       "      <th>friends_count</th>\n",
       "      <th>statuses_count</th>\n",
       "      <th>utc_offset</th>\n",
       "      <th>lang</th>\n",
       "      <th>created_at</th>\n",
       "      <th>protected</th>\n",
       "    </tr>\n",
       "  </thead>\n",
       "  <tbody>\n",
       "    <tr>\n",
       "      <th>0</th>\n",
       "      <td>1</td>\n",
       "      <td>True</td>\n",
       "      <td>30.0</td>\n",
       "      <td>28</td>\n",
       "      <td>9.0</td>\n",
       "      <td>NaN</td>\n",
       "      <td>en</td>\n",
       "      <td>Wed Oct 26 03:30:32 +0000 2011</td>\n",
       "      <td>False</td>\n",
       "    </tr>\n",
       "    <tr>\n",
       "      <th>1</th>\n",
       "      <td>2</td>\n",
       "      <td>True</td>\n",
       "      <td>2.0</td>\n",
       "      <td>8</td>\n",
       "      <td>7.0</td>\n",
       "      <td>-14400.0</td>\n",
       "      <td>en</td>\n",
       "      <td>Mon Jul 27 20:46:32 +0000 2009</td>\n",
       "      <td>False</td>\n",
       "    </tr>\n",
       "    <tr>\n",
       "      <th>2</th>\n",
       "      <td>3</td>\n",
       "      <td>True</td>\n",
       "      <td>1.0</td>\n",
       "      <td>0</td>\n",
       "      <td>0.0</td>\n",
       "      <td>NaN</td>\n",
       "      <td>fr</td>\n",
       "      <td>Mon Apr 23 20:57:26 +0000 2012</td>\n",
       "      <td>False</td>\n",
       "    </tr>\n",
       "  </tbody>\n",
       "</table>\n",
       "</div>"
      ],
      "text/plain": [
       "   ID  IsEgo  followers_count  friends_count  statuses_count  utc_offset lang  \\\n",
       "0   1   True             30.0             28             9.0         NaN   en   \n",
       "1   2   True              2.0              8             7.0    -14400.0   en   \n",
       "2   3   True              1.0              0             0.0         NaN   fr   \n",
       "\n",
       "                       created_at  protected  \n",
       "0  Wed Oct 26 03:30:32 +0000 2011      False  \n",
       "1  Mon Jul 27 20:46:32 +0000 2009      False  \n",
       "2  Mon Apr 23 20:57:26 +0000 2012      False  "
      ]
     },
     "execution_count": 2,
     "metadata": {},
     "output_type": "execute_result"
    }
   ],
   "source": [
    "# it's a csv file with \\t as the seperator\n",
    "ego_profiles = pd.read_csv('./data/EgoAlterProfiles/EgoAlterProfiles.txt', sep=\"\\t\")\n",
    "ego_profiles.head(3)"
   ]
  },
  {
   "cell_type": "code",
   "execution_count": 3,
   "metadata": {},
   "outputs": [
    {
     "data": {
      "text/html": [
       "<div>\n",
       "<style scoped>\n",
       "    .dataframe tbody tr th:only-of-type {\n",
       "        vertical-align: middle;\n",
       "    }\n",
       "\n",
       "    .dataframe tbody tr th {\n",
       "        vertical-align: top;\n",
       "    }\n",
       "\n",
       "    .dataframe thead th {\n",
       "        text-align: right;\n",
       "    }\n",
       "</style>\n",
       "<table border=\"1\" class=\"dataframe\">\n",
       "  <thead>\n",
       "    <tr style=\"text-align: right;\">\n",
       "      <th></th>\n",
       "      <th>replyto_userid</th>\n",
       "      <th>retweeted_userid</th>\n",
       "      <th>id</th>\n",
       "      <th>tweetid</th>\n",
       "      <th>created_at</th>\n",
       "      <th>hashtags</th>\n",
       "      <th>urls</th>\n",
       "      <th>mentions_ids</th>\n",
       "      <th>retweet_count</th>\n",
       "      <th>egoID</th>\n",
       "      <th>retweetedUserID</th>\n",
       "      <th>replytoUserID</th>\n",
       "      <th>metionID</th>\n",
       "    </tr>\n",
       "  </thead>\n",
       "  <tbody>\n",
       "    <tr>\n",
       "      <th>0</th>\n",
       "      <td>NaN</td>\n",
       "      <td>NaN</td>\n",
       "      <td>398477318</td>\n",
       "      <td>249552537051598848</td>\n",
       "      <td>Sat Sep 22 16:55:35 +0000 2012</td>\n",
       "      <td>NaN</td>\n",
       "      <td>NaN</td>\n",
       "      <td>2810549959</td>\n",
       "      <td>0</td>\n",
       "      <td>1</td>\n",
       "      <td>NaN</td>\n",
       "      <td>NaN</td>\n",
       "      <td>NaN</td>\n",
       "    </tr>\n",
       "    <tr>\n",
       "      <th>1</th>\n",
       "      <td>NaN</td>\n",
       "      <td>NaN</td>\n",
       "      <td>398477318</td>\n",
       "      <td>249537963145433088</td>\n",
       "      <td>Sat Sep 22 15:57:41 +0000 2012</td>\n",
       "      <td>NaN</td>\n",
       "      <td>NaN</td>\n",
       "      <td>2810549959</td>\n",
       "      <td>0</td>\n",
       "      <td>1</td>\n",
       "      <td>NaN</td>\n",
       "      <td>NaN</td>\n",
       "      <td>NaN</td>\n",
       "    </tr>\n",
       "    <tr>\n",
       "      <th>2</th>\n",
       "      <td>NaN</td>\n",
       "      <td>NaN</td>\n",
       "      <td>398477318</td>\n",
       "      <td>129377372209299456</td>\n",
       "      <td>Thu Oct 27 02:02:23 +0000 2011</td>\n",
       "      <td>NaN</td>\n",
       "      <td>NaN</td>\n",
       "      <td>NaN</td>\n",
       "      <td>0</td>\n",
       "      <td>1</td>\n",
       "      <td>NaN</td>\n",
       "      <td>NaN</td>\n",
       "      <td>NaN</td>\n",
       "    </tr>\n",
       "  </tbody>\n",
       "</table>\n",
       "</div>"
      ],
      "text/plain": [
       "   replyto_userid  retweeted_userid         id             tweetid  \\\n",
       "0             NaN               NaN  398477318  249552537051598848   \n",
       "1             NaN               NaN  398477318  249537963145433088   \n",
       "2             NaN               NaN  398477318  129377372209299456   \n",
       "\n",
       "                       created_at hashtags urls mentions_ids  retweet_count  \\\n",
       "0  Sat Sep 22 16:55:35 +0000 2012      NaN  NaN   2810549959              0   \n",
       "1  Sat Sep 22 15:57:41 +0000 2012      NaN  NaN   2810549959              0   \n",
       "2  Thu Oct 27 02:02:23 +0000 2011      NaN  NaN          NaN              0   \n",
       "\n",
       "   egoID  retweetedUserID  replytoUserID metionID  \n",
       "0      1              NaN            NaN      NaN  \n",
       "1      1              NaN            NaN      NaN  \n",
       "2      1              NaN            NaN      NaN  "
      ]
     },
     "execution_count": 3,
     "metadata": {},
     "output_type": "execute_result"
    }
   ],
   "source": [
    "# it's a csv file with \\t as the seperator\n",
    "ego_timeline = pd.read_csv('./data/EgoTimelines/EgoTimelines.txt', sep=\"\\t\",encoding='latin1')\n",
    "ego_timeline.head(3)"
   ]
  },
  {
   "cell_type": "code",
   "execution_count": 4,
   "metadata": {},
   "outputs": [
    {
     "data": {
      "text/html": [
       "<div>\n",
       "<style scoped>\n",
       "    .dataframe tbody tr th:only-of-type {\n",
       "        vertical-align: middle;\n",
       "    }\n",
       "\n",
       "    .dataframe tbody tr th {\n",
       "        vertical-align: top;\n",
       "    }\n",
       "\n",
       "    .dataframe thead th {\n",
       "        text-align: right;\n",
       "    }\n",
       "</style>\n",
       "<table border=\"1\" class=\"dataframe\">\n",
       "  <thead>\n",
       "    <tr style=\"text-align: right;\">\n",
       "      <th></th>\n",
       "      <th>egoID</th>\n",
       "      <th>followerID</th>\n",
       "      <th>followeeID</th>\n",
       "    </tr>\n",
       "  </thead>\n",
       "  <tbody>\n",
       "    <tr>\n",
       "      <th>0</th>\n",
       "      <td>1</td>\n",
       "      <td>1</td>\n",
       "      <td>1573741</td>\n",
       "    </tr>\n",
       "    <tr>\n",
       "      <th>1</th>\n",
       "      <td>1</td>\n",
       "      <td>1</td>\n",
       "      <td>1662720</td>\n",
       "    </tr>\n",
       "    <tr>\n",
       "      <th>2</th>\n",
       "      <td>1</td>\n",
       "      <td>1</td>\n",
       "      <td>1968904</td>\n",
       "    </tr>\n",
       "  </tbody>\n",
       "</table>\n",
       "</div>"
      ],
      "text/plain": [
       "   egoID  followerID  followeeID\n",
       "0      1           1     1573741\n",
       "1      1           1     1662720\n",
       "2      1           1     1968904"
      ]
     },
     "execution_count": 4,
     "metadata": {},
     "output_type": "execute_result"
    }
   ],
   "source": [
    "# it's a csv file with \\t as the seperator\n",
    "ego_networks = pd.read_csv('./data/EgoNetworks.txt', sep=\"\\t\")\n",
    "ego_networks.head(3)"
   ]
  },
  {
   "cell_type": "markdown",
   "metadata": {},
   "source": [
    "#### Preprocess0: filter out profiles of egos only"
   ]
  },
  {
   "cell_type": "code",
   "execution_count": 5,
   "metadata": {},
   "outputs": [],
   "source": [
    "ego_profiles = ego_profiles[ego_profiles['IsEgo']]"
   ]
  },
  {
   "cell_type": "markdown",
   "metadata": {},
   "source": [
    "#### Preprocess1: for each user, get the number of followees\n",
    "\n",
    "(The number of followers/ reciprocal ties (friends) are already given in ego profiels.)"
   ]
  },
  {
   "cell_type": "code",
   "execution_count": 6,
   "metadata": {},
   "outputs": [],
   "source": [
    "num_followee = ego_networks.groupby('followerID').size()\n",
    "ego_profiles['followees_count'] = [num_followee[ego_id] if ego_id in num_followee else 0 for ego_id in ego_profiles['ID']]"
   ]
  },
  {
   "cell_type": "code",
   "execution_count": 7,
   "metadata": {},
   "outputs": [
    {
     "data": {
      "text/html": [
       "<div>\n",
       "<style scoped>\n",
       "    .dataframe tbody tr th:only-of-type {\n",
       "        vertical-align: middle;\n",
       "    }\n",
       "\n",
       "    .dataframe tbody tr th {\n",
       "        vertical-align: top;\n",
       "    }\n",
       "\n",
       "    .dataframe thead th {\n",
       "        text-align: right;\n",
       "    }\n",
       "</style>\n",
       "<table border=\"1\" class=\"dataframe\">\n",
       "  <thead>\n",
       "    <tr style=\"text-align: right;\">\n",
       "      <th></th>\n",
       "      <th>ID</th>\n",
       "      <th>IsEgo</th>\n",
       "      <th>followers_count</th>\n",
       "      <th>friends_count</th>\n",
       "      <th>statuses_count</th>\n",
       "      <th>utc_offset</th>\n",
       "      <th>lang</th>\n",
       "      <th>created_at</th>\n",
       "      <th>protected</th>\n",
       "      <th>followees_count</th>\n",
       "    </tr>\n",
       "  </thead>\n",
       "  <tbody>\n",
       "    <tr>\n",
       "      <th>0</th>\n",
       "      <td>1</td>\n",
       "      <td>True</td>\n",
       "      <td>30.0</td>\n",
       "      <td>28</td>\n",
       "      <td>9.0</td>\n",
       "      <td>NaN</td>\n",
       "      <td>en</td>\n",
       "      <td>Wed Oct 26 03:30:32 +0000 2011</td>\n",
       "      <td>False</td>\n",
       "      <td>28</td>\n",
       "    </tr>\n",
       "    <tr>\n",
       "      <th>1</th>\n",
       "      <td>2</td>\n",
       "      <td>True</td>\n",
       "      <td>2.0</td>\n",
       "      <td>8</td>\n",
       "      <td>7.0</td>\n",
       "      <td>-14400.0</td>\n",
       "      <td>en</td>\n",
       "      <td>Mon Jul 27 20:46:32 +0000 2009</td>\n",
       "      <td>False</td>\n",
       "      <td>8</td>\n",
       "    </tr>\n",
       "    <tr>\n",
       "      <th>2</th>\n",
       "      <td>3</td>\n",
       "      <td>True</td>\n",
       "      <td>1.0</td>\n",
       "      <td>0</td>\n",
       "      <td>0.0</td>\n",
       "      <td>NaN</td>\n",
       "      <td>fr</td>\n",
       "      <td>Mon Apr 23 20:57:26 +0000 2012</td>\n",
       "      <td>False</td>\n",
       "      <td>0</td>\n",
       "    </tr>\n",
       "  </tbody>\n",
       "</table>\n",
       "</div>"
      ],
      "text/plain": [
       "   ID  IsEgo  followers_count  friends_count  statuses_count  utc_offset lang  \\\n",
       "0   1   True             30.0             28             9.0         NaN   en   \n",
       "1   2   True              2.0              8             7.0    -14400.0   en   \n",
       "2   3   True              1.0              0             0.0         NaN   fr   \n",
       "\n",
       "                       created_at  protected  followees_count  \n",
       "0  Wed Oct 26 03:30:32 +0000 2011      False               28  \n",
       "1  Mon Jul 27 20:46:32 +0000 2009      False                8  \n",
       "2  Mon Apr 23 20:57:26 +0000 2012      False                0  "
      ]
     },
     "execution_count": 7,
     "metadata": {},
     "output_type": "execute_result"
    }
   ],
   "source": [
    "ego_profiles.head(3)"
   ]
  },
  {
   "cell_type": "markdown",
   "metadata": {},
   "source": [
    "### Step2: Analyze the factors at the user level"
   ]
  },
  {
   "cell_type": "markdown",
   "metadata": {},
   "source": [
    "#### Step 2.1: Filter out the original tweets\n",
    "\n",
    "Original tweets are statuses that are not replies or retweets."
   ]
  },
  {
   "cell_type": "code",
   "execution_count": 8,
   "metadata": {},
   "outputs": [
    {
     "name": "stdout",
     "output_type": "stream",
     "text": [
      "17244 egos\n",
      "0.241: the proportion of replies\n",
      "0.224: the proportion of retweets\n"
     ]
    }
   ],
   "source": [
    "# sanity check:\n",
    "# see whether the numbers are consistent with the values given in supplementary information of paper\n",
    "print('%d egos'%len(ego_timeline['egoID'].unique()))\n",
    "print(\"%.3f: the proportion of replies\"%(np.sum(ego_timeline['replyto_userid'].apply(lambda a: not math.isnan(a)))/ego_timeline.shape[0]))\n",
    "print(\"%.3f: the proportion of retweets\"%(np.sum(ego_timeline['retweeted_userid'].apply(lambda a: not math.isnan(a)))/ego_timeline.shape[0]))\n",
    "    "
   ]
  },
  {
   "cell_type": "code",
   "execution_count": 9,
   "metadata": {},
   "outputs": [],
   "source": [
    "# filter out the original tweets\n",
    "ego_original = ego_timeline[np.bitwise_and(ego_timeline['replyto_userid'].apply(lambda a: math.isnan(a)), \n",
    "                                             ego_timeline['retweeted_userid'].apply(lambda a: math.isnan(a)))]\n"
   ]
  },
  {
   "cell_type": "markdown",
   "metadata": {},
   "source": [
    "#### Step 2.2: Group the original tweets by the egoID"
   ]
  },
  {
   "cell_type": "code",
   "execution_count": 21,
   "metadata": {},
   "outputs": [],
   "source": [
    "# sanity check:\n",
    "# whether these original tweets are sent by the egos in ego_profiles\n",
    "ego_id = ego_profiles['ID']\n",
    "for i in ego_timeline['egoID']:\n",
    "      assert i in ego_id"
   ]
  },
  {
   "cell_type": "code",
   "execution_count": 10,
   "metadata": {},
   "outputs": [],
   "source": [
    "tweeted_ego_id = ego_timeline['egoID'].unique()\n",
    "originalTweeted_ego_id = ego_original['egoID'].unique()"
   ]
  },
  {
   "cell_type": "code",
   "execution_count": 11,
   "metadata": {},
   "outputs": [],
   "source": [
    "# get the number of original posts for each ego\n",
    "ego_numOriginal = ego_original.groupby('egoID').size()\n",
    "# get the total number of retweet counts for each ego\n",
    "ego_numRetweet = ego_original.groupby('egoID').median()['retweet_count']"
   ]
  },
  {
   "cell_type": "code",
   "execution_count": 12,
   "metadata": {},
   "outputs": [],
   "source": [
    "# get the median number of retweet count for each ego\n",
    "ego_profiles['tweeted'] = [ego_id in tweeted_ego_id for ego_id in ego_profiles['ID']]\n",
    "ego_profiles['originalTweeted'] = [ego_id in originalTweeted_ego_id for ego_id in ego_profiles['ID']]\n",
    "ego_profiles['numOriginal'] = [ego_numOriginal[ego_id] if ego_id in originalTweeted_ego_id else 0 for ego_id in ego_profiles['ID']]\n",
    "ego_profiles['medianRetweet'] = [ego_numRetweet[ego_id] if ego_id in originalTweeted_ego_id else 0 for ego_id in ego_profiles['ID']]"
   ]
  },
  {
   "cell_type": "markdown",
   "metadata": {},
   "source": [
    "#### Step 2.3: Plot the number of averaged retweet count as a function of the number of followers/ followees/ friends"
   ]
  },
  {
   "cell_type": "code",
   "execution_count": 14,
   "metadata": {},
   "outputs": [],
   "source": [
    "# In case fake accounts may influence the results, we deleted those users who have not posted anything.\n",
    "ego_tweeted_profiles = ego_profiles[ego_profiles['tweeted']]"
   ]
  },
  {
   "cell_type": "code",
   "execution_count": 160,
   "metadata": {},
   "outputs": [
    {
     "data": {
      "image/png": "[encoded data removed]",
      "text/plain": [
       "<Figure size 864x288 with 3 Axes>"
      ]
     },
     "metadata": {
      "needs_background": "light"
     },
     "output_type": "display_data"
    }
   ],
   "source": [
    "features = ['followers_count', 'followees_count', 'friends_count']\n",
    "colors_features = sns.color_palette(\"Set2\").as_hex()[:len(features)]\n",
    "\n",
    "fig, ax = plt.subplots(1,3,figsize=(12,4),sharey=True)\n",
    "for axi, key in zip(range(3), features):\n",
    "    ax[axi].scatter(ego_tweeted_profiles[key], ego_tweeted_profiles['medianRetweet'],s=10,alpha=0.3, c=colors_features[axi])\n",
    "    ax[axi].set_xscale('log') # because values are skewed, we use log here\n",
    "    ax[axi].set_xlim([1,np.max(ego_tweeted_profiles[key])]) \n",
    "    ax[axi].set_xlabel(key)\n",
    "    \n",
    "ax[0].set_ylabel('Median # of retweet counts')\n",
    "plt.suptitle('median Retweet Count')\n",
    "plt.show()"
   ]
  },
  {
   "cell_type": "markdown",
   "metadata": {},
   "source": [
    "First we noticed that the average numbers of retweet count are not very large: mostly are below 10, some are more than 20. Further we seperated egos into super influencers and normal users according to the average number of retweet counts and analyze seperately."
   ]
  },
  {
   "cell_type": "code",
   "execution_count": 48,
   "metadata": {},
   "outputs": [],
   "source": [
    "# seperated egos into super influencers and normal users according to the average number of retweet counts \n",
    "super_influencer = ego_tweeted_profiles[ego_tweeted_profiles['medianRetweet'] >= 20]\n",
    "normal_user = ego_tweeted_profiles[ego_tweeted_profiles['medianRetweet'] < 20]"
   ]
  },
  {
   "cell_type": "code",
   "execution_count": 200,
   "metadata": {},
   "outputs": [
    {
     "data": {
      "text/html": [
       "<div>\n",
       "<style scoped>\n",
       "    .dataframe tbody tr th:only-of-type {\n",
       "        vertical-align: middle;\n",
       "    }\n",
       "\n",
       "    .dataframe tbody tr th {\n",
       "        vertical-align: top;\n",
       "    }\n",
       "\n",
       "    .dataframe thead th {\n",
       "        text-align: right;\n",
       "    }\n",
       "</style>\n",
       "<table border=\"1\" class=\"dataframe\">\n",
       "  <thead>\n",
       "    <tr style=\"text-align: right;\">\n",
       "      <th></th>\n",
       "      <th>ID</th>\n",
       "      <th>followers_count</th>\n",
       "      <th>followees_count</th>\n",
       "      <th>friends_count</th>\n",
       "      <th>numOriginal</th>\n",
       "      <th>medianRetweet</th>\n",
       "    </tr>\n",
       "  </thead>\n",
       "  <tbody>\n",
       "    <tr>\n",
       "      <th>4325</th>\n",
       "      <td>4326</td>\n",
       "      <td>67.0</td>\n",
       "      <td>0</td>\n",
       "      <td>0</td>\n",
       "      <td>6</td>\n",
       "      <td>38.0</td>\n",
       "    </tr>\n",
       "    <tr>\n",
       "      <th>16359</th>\n",
       "      <td>16360</td>\n",
       "      <td>126.0</td>\n",
       "      <td>1498</td>\n",
       "      <td>1500</td>\n",
       "      <td>1</td>\n",
       "      <td>109.0</td>\n",
       "    </tr>\n",
       "    <tr>\n",
       "      <th>17158</th>\n",
       "      <td>17159</td>\n",
       "      <td>1.0</td>\n",
       "      <td>50</td>\n",
       "      <td>50</td>\n",
       "      <td>11</td>\n",
       "      <td>48.0</td>\n",
       "    </tr>\n",
       "    <tr>\n",
       "      <th>17821</th>\n",
       "      <td>17822</td>\n",
       "      <td>10.0</td>\n",
       "      <td>151</td>\n",
       "      <td>150</td>\n",
       "      <td>1</td>\n",
       "      <td>31.0</td>\n",
       "    </tr>\n",
       "    <tr>\n",
       "      <th>18669</th>\n",
       "      <td>18670</td>\n",
       "      <td>42342.0</td>\n",
       "      <td>0</td>\n",
       "      <td>18915</td>\n",
       "      <td>1349</td>\n",
       "      <td>25.0</td>\n",
       "    </tr>\n",
       "    <tr>\n",
       "      <th>26428</th>\n",
       "      <td>26429</td>\n",
       "      <td>776.0</td>\n",
       "      <td>0</td>\n",
       "      <td>0</td>\n",
       "      <td>232</td>\n",
       "      <td>29.5</td>\n",
       "    </tr>\n",
       "    <tr>\n",
       "      <th>32949</th>\n",
       "      <td>32950</td>\n",
       "      <td>14954.0</td>\n",
       "      <td>0</td>\n",
       "      <td>13777</td>\n",
       "      <td>29</td>\n",
       "      <td>22.0</td>\n",
       "    </tr>\n",
       "  </tbody>\n",
       "</table>\n",
       "</div>"
      ],
      "text/plain": [
       "          ID  followers_count  followees_count  friends_count  numOriginal  \\\n",
       "4325    4326             67.0                0              0            6   \n",
       "16359  16360            126.0             1498           1500            1   \n",
       "17158  17159              1.0               50             50           11   \n",
       "17821  17822             10.0              151            150            1   \n",
       "18669  18670          42342.0                0          18915         1349   \n",
       "26428  26429            776.0                0              0          232   \n",
       "32949  32950          14954.0                0          13777           29   \n",
       "\n",
       "       medianRetweet  \n",
       "4325            38.0  \n",
       "16359          109.0  \n",
       "17158           48.0  \n",
       "17821           31.0  \n",
       "18669           25.0  \n",
       "26428           29.5  \n",
       "32949           22.0  "
      ]
     },
     "execution_count": 200,
     "metadata": {},
     "output_type": "execute_result"
    }
   ],
   "source": [
    "super_influencer[['ID','followers_count','followees_count','friends_count','numOriginal','medianRetweet']]"
   ]
  },
  {
   "cell_type": "markdown",
   "metadata": {},
   "source": [
    "Here two users actually draw our attention: 1. user 18670, who seems to be a famous person as she has lots of followers; 2. user 17159 - a user just like us! - with only one follower. But how come does she make it to have so many retweets?"
   ]
  },
  {
   "cell_type": "code",
   "execution_count": 153,
   "metadata": {},
   "outputs": [
    {
     "name": "stderr",
     "output_type": "stream",
     "text": [
      "/Users/wsq/opt/anaconda2/envs/CS456/lib/python3.6/site-packages/ipykernel_launcher.py:3: SettingWithCopyWarning:\n",
      "\n",
      "\n",
      "A value is trying to be set on a copy of a slice from a DataFrame.\n",
      "Try using .loc[row_indexer,col_indexer] = value instead\n",
      "\n",
      "See the caveats in the documentation: https://pandas.pydata.org/pandas-docs/stable/user_guide/indexing.html#returning-a-view-versus-a-copy\n",
      "\n"
     ]
    },
    {
     "data": {
      "image/png": "[encoded data removed]",
      "text/plain": [
       "<Figure size 432x288 with 1 Axes>"
      ]
     },
     "metadata": {
      "needs_background": "light"
     },
     "output_type": "display_data"
    }
   ],
   "source": [
    "# examine 18670\n",
    "user18670 = ego_original[ego_original['egoID']==18670]\n",
    "user18670['hastag'] = user18670.loc[:,'hashtags'].apply(lambda hashtag: not (type(hashtag)==float and math.isnan(hashtag)))\n",
    "sns.histplot(data=user18670, x='retweet_count', hue=\"hastag\", multiple=\"stack\")\n",
    "plt.title('user 18669')\n",
    "plt.show()"
   ]
  },
  {
   "cell_type": "code",
   "execution_count": 154,
   "metadata": {},
   "outputs": [
    {
     "name": "stderr",
     "output_type": "stream",
     "text": [
      "/Users/wsq/opt/anaconda2/envs/CS456/lib/python3.6/site-packages/ipykernel_launcher.py:3: SettingWithCopyWarning:\n",
      "\n",
      "\n",
      "A value is trying to be set on a copy of a slice from a DataFrame.\n",
      "Try using .loc[row_indexer,col_indexer] = value instead\n",
      "\n",
      "See the caveats in the documentation: https://pandas.pydata.org/pandas-docs/stable/user_guide/indexing.html#returning-a-view-versus-a-copy\n",
      "\n"
     ]
    },
    {
     "data": {
      "image/png": "[encoded data removed]",
      "text/plain": [
       "<Figure size 432x288 with 1 Axes>"
      ]
     },
     "metadata": {
      "needs_background": "light"
     },
     "output_type": "display_data"
    }
   ],
   "source": [
    "# examine 17159\n",
    "user17159 = ego_original[ego_original['egoID']==17159]\n",
    "user17159['hastag'] = user17159.loc[:,'hashtags'].apply(lambda hashtag: not (type(hashtag)==float and math.isnan(hashtag)))\n",
    "sns.histplot(data=user17159, x='retweet_count', hue=\"hastag\", multiple=\"stack\")\n",
    "plt.title('user 17159')\n",
    "plt.show()"
   ]
  },
  {
   "cell_type": "markdown",
   "metadata": {},
   "source": [
    "From above analysis, we realize that, if you already have many followers, you might not need to do much to get retweets; but if you do not, just like user 17159, **it's a smart choice to post with hashtags**, which will make your posts seen by more!"
   ]
  },
  {
   "cell_type": "markdown",
   "metadata": {},
   "source": [
    "Now for the normal users, to exclude the effects of hashtags (and also urls, mentions as they are shown to have certain effects in the original paper), we consider only the original posts with aimple plain texts."
   ]
  },
  {
   "cell_type": "code",
   "execution_count": 42,
   "metadata": {},
   "outputs": [
    {
     "name": "stderr",
     "output_type": "stream",
     "text": [
      "/Users/wsq/opt/anaconda2/envs/CS456/lib/python3.6/site-packages/ipykernel_launcher.py:6: SettingWithCopyWarning: \n",
      "A value is trying to be set on a copy of a slice from a DataFrame.\n",
      "Try using .loc[row_indexer,col_indexer] = value instead\n",
      "\n",
      "See the caveats in the documentation: https://pandas.pydata.org/pandas-docs/stable/user_guide/indexing.html#returning-a-view-versus-a-copy\n",
      "  \n"
     ]
    }
   ],
   "source": [
    "# filter out the original posts with aimple plain texts.\n",
    "ego_original['simpleText'] = ego_original.apply(lambda y: \n",
    "                                                    type(y['hashtags'])==float and math.isnan(y['hashtags'])\n",
    "                                                    and type(y['urls'])==float and math.isnan(y['urls'])\n",
    "                                                    and type(y['mentions_ids'])==float and math.isnan(y['mentions_ids'])\n",
    "                                                ,axis=1)"
   ]
  },
  {
   "cell_type": "code",
   "execution_count": 49,
   "metadata": {},
   "outputs": [
    {
     "name": "stderr",
     "output_type": "stream",
     "text": [
      "/Users/wsq/opt/anaconda2/envs/CS456/lib/python3.6/site-packages/ipykernel_launcher.py:3: SettingWithCopyWarning:\n",
      "\n",
      "\n",
      "A value is trying to be set on a copy of a slice from a DataFrame.\n",
      "Try using .loc[row_indexer,col_indexer] = value instead\n",
      "\n",
      "See the caveats in the documentation: https://pandas.pydata.org/pandas-docs/stable/user_guide/indexing.html#returning-a-view-versus-a-copy\n",
      "\n",
      "/Users/wsq/opt/anaconda2/envs/CS456/lib/python3.6/site-packages/ipykernel_launcher.py:5: SettingWithCopyWarning:\n",
      "\n",
      "\n",
      "A value is trying to be set on a copy of a slice from a DataFrame.\n",
      "Try using .loc[row_indexer,col_indexer] = value instead\n",
      "\n",
      "See the caveats in the documentation: https://pandas.pydata.org/pandas-docs/stable/user_guide/indexing.html#returning-a-view-versus-a-copy\n",
      "\n"
     ]
    }
   ],
   "source": [
    "ego_numRetweet_simple = ego_original[ego_original['simpleText']].groupby('egoID').median()['retweet_count']\n",
    "# whether one has posted a simple plain tweet\n",
    "normal_user['tweeted_simple'] = [ego_id in ego_numRetweet_simple for ego_id in normal_user['ID']] \n",
    "# median of the retweet count of one's simple posts\n",
    "normal_user['medianRetweet_simple'] = [ego_numRetweet_simple[ego_id] if ego_id in ego_numRetweet_simple else 0 for ego_id in normal_user['ID']]\n"
   ]
  },
  {
   "cell_type": "code",
   "execution_count": 70,
   "metadata": {},
   "outputs": [],
   "source": [
    "normal_user_with_simple_posts = normal_user[normal_user['tweeted_simple']]"
   ]
  },
  {
   "cell_type": "code",
   "execution_count": 157,
   "metadata": {},
   "outputs": [
    {
     "name": "stderr",
     "output_type": "stream",
     "text": [
      "/Users/wsq/opt/anaconda2/envs/CS456/lib/python3.6/site-packages/ipykernel_launcher.py:8: SettingWithCopyWarning:\n",
      "\n",
      "\n",
      "A value is trying to be set on a copy of a slice from a DataFrame.\n",
      "Try using .loc[row_indexer,col_indexer] = value instead\n",
      "\n",
      "See the caveats in the documentation: https://pandas.pydata.org/pandas-docs/stable/user_guide/indexing.html#returning-a-view-versus-a-copy\n",
      "\n",
      "/Users/wsq/opt/anaconda2/envs/CS456/lib/python3.6/site-packages/ipykernel_launcher.py:9: SettingWithCopyWarning:\n",
      "\n",
      "\n",
      "A value is trying to be set on a copy of a slice from a DataFrame.\n",
      "Try using .loc[row_indexer,col_indexer] = value instead\n",
      "\n",
      "See the caveats in the documentation: https://pandas.pydata.org/pandas-docs/stable/user_guide/indexing.html#returning-a-view-versus-a-copy\n",
      "\n",
      "/Users/wsq/opt/anaconda2/envs/CS456/lib/python3.6/site-packages/ipykernel_launcher.py:10: SettingWithCopyWarning:\n",
      "\n",
      "\n",
      "A value is trying to be set on a copy of a slice from a DataFrame.\n",
      "Try using .loc[row_indexer,col_indexer] = value instead\n",
      "\n",
      "See the caveats in the documentation: https://pandas.pydata.org/pandas-docs/stable/user_guide/indexing.html#returning-a-view-versus-a-copy\n",
      "\n"
     ]
    },
    {
     "data": {
      "image/png": "[encoded data removed]",
      "text/plain": [
       "<Figure size 720x360 with 15 Axes>"
      ]
     },
     "metadata": {
      "needs_background": "light"
     },
     "output_type": "display_data"
    }
   ],
   "source": [
    "def _group(n):\n",
    "    if n == 0 or n == 1:\n",
    "        return 1\n",
    "    return np.ceil(np.log10(n))\n",
    "    \n",
    "    \n",
    "# we group followers/ followees/ friends count with certain defined intervals\n",
    "normal_user_with_simple_posts['followers_count_group'] = normal_user_with_simple_posts['followers_count'].apply(_group)\n",
    "normal_user_with_simple_posts['followees_count_group'] = normal_user_with_simple_posts['followees_count'].apply(_group)\n",
    "normal_user_with_simple_posts['friends_count_group'] = normal_user_with_simple_posts['friends_count'].apply(_group)\n",
    "\n",
    "# plot the histogram of the distribution of retweet count for each interval\n",
    "figure,ax = plt.subplots(5,3,figsize=(10,5),sharex=True, sharey=True)\n",
    "color = sns.color_palette(\"tab10\")\n",
    "group_name = ['<=10', '(10,100]', '(100,1000]','(1000,10000]','>10000']\n",
    "for groupi in range(5):\n",
    "#     for fi, feature in enumerate(features):\n",
    "    sns.violinplot(x=normal_user_with_simple_posts[normal_user_with_simple_posts['followers_count_group']==groupi+1]['medianRetweet_simple'],\n",
    "            color=colors_features[0], ax = ax[groupi][0])\n",
    "    sns.violinplot(x=normal_user_with_simple_posts[normal_user_with_simple_posts['followees_count_group']==groupi+1]['medianRetweet_simple'],\n",
    "            color=colors_features[1], ax = ax[groupi][1])\n",
    "    sns.violinplot(x=normal_user_with_simple_posts[normal_user_with_simple_posts['friends_count_group']==groupi+1]['medianRetweet_simple'],\n",
    "            color=colors_features[2], ax = ax[groupi][2])\n",
    "\n",
    "    if groupi == 0:\n",
    "        ax[groupi][0].set_title('grouped factor: followers count \\n'+group_name[groupi])\n",
    "        ax[groupi][1].set_title('grouped factor: followees count \\n'+group_name[groupi])\n",
    "        ax[groupi][2].set_title('grouped factor: friends count \\n'+group_name[groupi])\n",
    "    else:\n",
    "        for ci in range(3):\n",
    "            ax[groupi][ci].set_title(group_name[groupi])\n",
    "plt.tight_layout()\n",
    "plt.suptitle('distribution of retweet counts within grouped factors')\n",
    "plt.subplots_adjust(top=0.85)\n",
    "plt.show()"
   ]
  },
  {
   "cell_type": "markdown",
   "metadata": {},
   "source": [
    "We noticed that as the followers/followees/friends counts increases (from the first row to the fifth row) the probability of receiving more retweets increases (the plot gets \"fatter\"). **Especially when number reaches three digits the effect starts to become significant.**\n",
    "\n",
    "We admit that there might be strong multicollinearity among these factors, as shown in the next plot - especially between the number of followers and the number of friends. But our conclusion remains the same: By following more people, being more interactive (getting more friends), the user can hopefully get more followers and more retweets. When the figure reaches two digits from one digit, the user might not see much increase in terms of retweet count of a plain post, but once one has made it to three figures, he can expect to see some significant changes. "
   ]
  },
  {
   "cell_type": "code",
   "execution_count": 158,
   "metadata": {},
   "outputs": [
    {
     "data": {
      "image/png": "[encoded data removed]",
      "text/plain": [
       "<Figure size 1296x432 with 3 Axes>"
      ]
     },
     "metadata": {
      "needs_background": "light"
     },
     "output_type": "display_data"
    }
   ],
   "source": [
    "fig, ax = plt.subplots(1,3, sharex=True, sharey=True, figsize=(18,6))\n",
    "axi = 0 # which axes\n",
    "for xlabel, ylabel in zip(['followers_count','followees_count','friends_count'],['followees_count','friends_count','followers_count']):\n",
    "    ax[axi].scatter(normal_user_with_simple_posts[xlabel], normal_user_with_simple_posts[ylabel], s=1,alpha=0.3)\n",
    "    ax[axi].set_xscale('log') # same as above, we use log as the values are skewed\n",
    "    ax[axi].set_xlabel(xlabel)\n",
    "    ax[axi].set_xlim([1,np.max(normal_user_with_simple_posts[xlabel])]) # constrain on x limit\n",
    "    ax[axi].set_yscale('log') # same as above, we use log as the values are skewed\n",
    "    ax[axi].set_ylabel(ylabel)\n",
    "    ax[axi].set_ylim([1,np.max(normal_user_with_simple_posts[ylabel])]) # constrain on y limit\n",
    "    axi += 1\n",
    "plt.suptitle('collinearity between factors')\n",
    "plt.show()\n",
    "    "
   ]
  },
  {
   "cell_type": "markdown",
   "metadata": {},
   "source": [
    "#### Step 2.3: English/ non English; matching\n",
    "\n",
    "We further attempt to study the impact of language by considering language='en' (english) as our \"treatment\"."
   ]
  },
  {
   "cell_type": "code",
   "execution_count": 82,
   "metadata": {},
   "outputs": [
    {
     "data": {
      "text/html": [
       "<div>\n",
       "<style scoped>\n",
       "    .dataframe tbody tr th:only-of-type {\n",
       "        vertical-align: middle;\n",
       "    }\n",
       "\n",
       "    .dataframe tbody tr th {\n",
       "        vertical-align: top;\n",
       "    }\n",
       "\n",
       "    .dataframe thead th {\n",
       "        text-align: right;\n",
       "    }\n",
       "</style>\n",
       "<table border=\"1\" class=\"dataframe\">\n",
       "  <thead>\n",
       "    <tr style=\"text-align: right;\">\n",
       "      <th></th>\n",
       "      <th>lang</th>\n",
       "      <th>ID</th>\n",
       "      <th>followers_count</th>\n",
       "      <th>followees_count</th>\n",
       "      <th>friends_count</th>\n",
       "      <th>numOriginal</th>\n",
       "      <th>medianRetweet</th>\n",
       "    </tr>\n",
       "  </thead>\n",
       "  <tbody>\n",
       "    <tr>\n",
       "      <th>4325</th>\n",
       "      <td>id</td>\n",
       "      <td>4326</td>\n",
       "      <td>67.0</td>\n",
       "      <td>0</td>\n",
       "      <td>0</td>\n",
       "      <td>6</td>\n",
       "      <td>38.0</td>\n",
       "    </tr>\n",
       "    <tr>\n",
       "      <th>16359</th>\n",
       "      <td>en</td>\n",
       "      <td>16360</td>\n",
       "      <td>126.0</td>\n",
       "      <td>1498</td>\n",
       "      <td>1500</td>\n",
       "      <td>1</td>\n",
       "      <td>109.0</td>\n",
       "    </tr>\n",
       "    <tr>\n",
       "      <th>17158</th>\n",
       "      <td>th</td>\n",
       "      <td>17159</td>\n",
       "      <td>1.0</td>\n",
       "      <td>50</td>\n",
       "      <td>50</td>\n",
       "      <td>11</td>\n",
       "      <td>48.0</td>\n",
       "    </tr>\n",
       "    <tr>\n",
       "      <th>17821</th>\n",
       "      <td>en</td>\n",
       "      <td>17822</td>\n",
       "      <td>10.0</td>\n",
       "      <td>151</td>\n",
       "      <td>150</td>\n",
       "      <td>1</td>\n",
       "      <td>31.0</td>\n",
       "    </tr>\n",
       "    <tr>\n",
       "      <th>18669</th>\n",
       "      <td>en</td>\n",
       "      <td>18670</td>\n",
       "      <td>42342.0</td>\n",
       "      <td>18890</td>\n",
       "      <td>18915</td>\n",
       "      <td>1349</td>\n",
       "      <td>25.0</td>\n",
       "    </tr>\n",
       "    <tr>\n",
       "      <th>26428</th>\n",
       "      <td>en</td>\n",
       "      <td>26429</td>\n",
       "      <td>776.0</td>\n",
       "      <td>0</td>\n",
       "      <td>0</td>\n",
       "      <td>232</td>\n",
       "      <td>29.5</td>\n",
       "    </tr>\n",
       "    <tr>\n",
       "      <th>32949</th>\n",
       "      <td>es</td>\n",
       "      <td>32950</td>\n",
       "      <td>14954.0</td>\n",
       "      <td>14201</td>\n",
       "      <td>13777</td>\n",
       "      <td>29</td>\n",
       "      <td>22.0</td>\n",
       "    </tr>\n",
       "  </tbody>\n",
       "</table>\n",
       "</div>"
      ],
      "text/plain": [
       "      lang     ID  followers_count  followees_count  friends_count  \\\n",
       "4325    id   4326             67.0                0              0   \n",
       "16359   en  16360            126.0             1498           1500   \n",
       "17158   th  17159              1.0               50             50   \n",
       "17821   en  17822             10.0              151            150   \n",
       "18669   en  18670          42342.0            18890          18915   \n",
       "26428   en  26429            776.0                0              0   \n",
       "32949   es  32950          14954.0            14201          13777   \n",
       "\n",
       "       numOriginal  medianRetweet  \n",
       "4325             6           38.0  \n",
       "16359            1          109.0  \n",
       "17158           11           48.0  \n",
       "17821            1           31.0  \n",
       "18669         1349           25.0  \n",
       "26428          232           29.5  \n",
       "32949           29           22.0  "
      ]
     },
     "execution_count": 82,
     "metadata": {},
     "output_type": "execute_result"
    }
   ],
   "source": [
    "super_influencer[['lang','ID','followers_count','followees_count','friends_count','numOriginal','medianRetweet']]"
   ]
  },
  {
   "cell_type": "markdown",
   "metadata": {},
   "source": [
    "First we noticed, for the super influencer, there are both english and non-english speakers."
   ]
  },
  {
   "cell_type": "markdown",
   "metadata": {},
   "source": [
    "Then we create a regressor that predicts median retweet counts for each user."
   ]
  },
  {
   "cell_type": "code",
   "execution_count": 84,
   "metadata": {},
   "outputs": [
    {
     "name": "stderr",
     "output_type": "stream",
     "text": [
      "/Users/wsq/opt/anaconda2/envs/CS456/lib/python3.6/site-packages/ipykernel_launcher.py:4: SettingWithCopyWarning:\n",
      "\n",
      "\n",
      "A value is trying to be set on a copy of a slice from a DataFrame.\n",
      "Try using .loc[row_indexer,col_indexer] = value instead\n",
      "\n",
      "See the caveats in the documentation: https://pandas.pydata.org/pandas-docs/stable/user_guide/indexing.html#returning-a-view-versus-a-copy\n",
      "\n"
     ]
    }
   ],
   "source": [
    "import statsmodels.api as sm\n",
    "import statsmodels.formula.api as smf\n",
    "\n",
    "normal_user_with_simple_posts['english'] = normal_user['lang'].apply(lambda lang: int(lang=='en'))\n",
    "mod = smf.ols(formula='medianRetweet_simple ~ followers_count + followees_count + friends_count + statuses_count + C(english) ',\n",
    "                   data=normal_user_with_simple_posts)\n",
    "res = mod.fit()"
   ]
  },
  {
   "cell_type": "code",
   "execution_count": 86,
   "metadata": {},
   "outputs": [
    {
     "name": "stdout",
     "output_type": "stream",
     "text": [
      "                             OLS Regression Results                             \n",
      "================================================================================\n",
      "Dep. Variable:     medianRetweet_simple   R-squared:                       0.020\n",
      "Model:                              OLS   Adj. R-squared:                  0.019\n",
      "Method:                   Least Squares   F-statistic:                     52.59\n",
      "Date:                  Tue, 08 Dec 2020   Prob (F-statistic):           3.27e-54\n",
      "Time:                          15:50:37   Log-Likelihood:                -4402.8\n",
      "No. Observations:                 13009   AIC:                             8818.\n",
      "Df Residuals:                     13003   BIC:                             8862.\n",
      "Df Model:                             5                                         \n",
      "Covariance Type:              nonrobust                                         \n",
      "===================================================================================\n",
      "                      coef    std err          t      P>|t|      [0.025      0.975]\n",
      "-----------------------------------------------------------------------------------\n",
      "Intercept           0.0286      0.004      6.355      0.000       0.020       0.037\n",
      "C(english)[T.1]    -0.0002      0.006     -0.040      0.968      -0.012       0.011\n",
      "followers_count  1.584e-05   2.13e-06      7.450      0.000    1.17e-05       2e-05\n",
      "followees_count  4.933e-05      0.000      0.235      0.814      -0.000       0.000\n",
      "friends_count    2.262e-05      0.000      0.107      0.915      -0.000       0.000\n",
      "statuses_count  -4.786e-07   2.82e-07     -1.696      0.090   -1.03e-06    7.45e-08\n",
      "==============================================================================\n",
      "Omnibus:                    31608.003   Durbin-Watson:                   1.995\n",
      "Prob(Omnibus):                  0.000   Jarque-Bera (JB):        624692449.726\n",
      "Skew:                          25.255   Prob(JB):                         0.00\n",
      "Kurtosis:                    1075.348   Cond. No.                     2.52e+04\n",
      "==============================================================================\n",
      "\n",
      "Notes:\n",
      "[1] Standard Errors assume that the covariance matrix of the errors is correctly specified.\n",
      "[2] The condition number is large, 2.52e+04. This might indicate that there are\n",
      "strong multicollinearity or other numerical problems.\n"
     ]
    }
   ],
   "source": [
    "print(res.summary())"
   ]
  },
  {
   "cell_type": "markdown",
   "metadata": {},
   "source": [
    "Coefficient for 'english' can be interpreted as the difference in the predicted value in decision for each one-unit difference in 'english' if other independent variables remain constant. Since 'english' is a categorical variable coded as 0 or 1, a one unit difference represents switching from one category to the other. So compared to users that do not speak English, we would expect English speakers to decrease the retweet count by 0.04. However this coefficient has a p value of 0.968, which is absolutely not statiscally significant. The result suggests posting in an international language or not like English will not affect the retweet count significantly. (Here we assume that \n",
    "\n",
    "So far we've studied this question very grossly, next we are going to examine more closely: things might be different for each language specifically as different population might have different habit of usage."
   ]
  },
  {
   "cell_type": "code",
   "execution_count": 163,
   "metadata": {},
   "outputs": [],
   "source": [
    "import warnings\n",
    "warnings.filterwarnings(\"ignore\")"
   ]
  },
  {
   "cell_type": "code",
   "execution_count": 164,
   "metadata": {},
   "outputs": [],
   "source": [
    "normal_user[\"lang_normalized\"]=normal_user[\"lang\"].apply(lambda x:str(x).split(\"-\")[0])"
   ]
  },
  {
   "cell_type": "code",
   "execution_count": 184,
   "metadata": {},
   "outputs": [],
   "source": [
    "data_lang=normal_user[[\"lang_normalized\",\"followers_count\",\"friends_count\",\"statuses_count\", \"followees_count\",\"medianRetweet\"]].groupby(\"lang_normalized\").mean()\n",
    "data_lang=data_lang[normal_user['lang_normalized'].value_counts()>100]"
   ]
  },
  {
   "cell_type": "code",
   "execution_count": 185,
   "metadata": {},
   "outputs": [],
   "source": [
    "data_lang.reset_index(inplace=True)\n",
    "data_lang['lang_readable']=['Arabic','German','English','Spanish','Franch','Indonesian','Italian','Japanese','Korean','Dutch','Portuguese','Russian','Turkish']"
   ]
  },
  {
   "cell_type": "code",
   "execution_count": 186,
   "metadata": {},
   "outputs": [
    {
     "data": {
      "text/html": [
       "<div>\n",
       "<style scoped>\n",
       "    .dataframe tbody tr th:only-of-type {\n",
       "        vertical-align: middle;\n",
       "    }\n",
       "\n",
       "    .dataframe tbody tr th {\n",
       "        vertical-align: top;\n",
       "    }\n",
       "\n",
       "    .dataframe thead th {\n",
       "        text-align: right;\n",
       "    }\n",
       "</style>\n",
       "<table border=\"1\" class=\"dataframe\">\n",
       "  <thead>\n",
       "    <tr style=\"text-align: right;\">\n",
       "      <th></th>\n",
       "      <th>lang_normalized</th>\n",
       "      <th>followers_count</th>\n",
       "      <th>friends_count</th>\n",
       "      <th>statuses_count</th>\n",
       "      <th>followees_count</th>\n",
       "      <th>medianRetweet</th>\n",
       "      <th>lang_readable</th>\n",
       "    </tr>\n",
       "  </thead>\n",
       "  <tbody>\n",
       "    <tr>\n",
       "      <th>0</th>\n",
       "      <td>ar</td>\n",
       "      <td>211.878505</td>\n",
       "      <td>194.623498</td>\n",
       "      <td>803.088117</td>\n",
       "      <td>193.311081</td>\n",
       "      <td>0.058745</td>\n",
       "      <td>Arabic</td>\n",
       "    </tr>\n",
       "    <tr>\n",
       "      <th>1</th>\n",
       "      <td>de</td>\n",
       "      <td>101.870968</td>\n",
       "      <td>150.225806</td>\n",
       "      <td>175.206452</td>\n",
       "      <td>150.600000</td>\n",
       "      <td>0.019355</td>\n",
       "      <td>German</td>\n",
       "    </tr>\n",
       "    <tr>\n",
       "      <th>2</th>\n",
       "      <td>en</td>\n",
       "      <td>106.940069</td>\n",
       "      <td>107.038304</td>\n",
       "      <td>705.102970</td>\n",
       "      <td>106.847321</td>\n",
       "      <td>0.029159</td>\n",
       "      <td>English</td>\n",
       "    </tr>\n",
       "    <tr>\n",
       "      <th>3</th>\n",
       "      <td>es</td>\n",
       "      <td>72.689796</td>\n",
       "      <td>122.801633</td>\n",
       "      <td>577.271429</td>\n",
       "      <td>122.566531</td>\n",
       "      <td>0.029796</td>\n",
       "      <td>Spanish</td>\n",
       "    </tr>\n",
       "    <tr>\n",
       "      <th>4</th>\n",
       "      <td>fr</td>\n",
       "      <td>52.528037</td>\n",
       "      <td>78.121495</td>\n",
       "      <td>441.957944</td>\n",
       "      <td>77.766355</td>\n",
       "      <td>0.021028</td>\n",
       "      <td>Franch</td>\n",
       "    </tr>\n",
       "    <tr>\n",
       "      <th>5</th>\n",
       "      <td>id</td>\n",
       "      <td>58.253359</td>\n",
       "      <td>89.600768</td>\n",
       "      <td>644.166987</td>\n",
       "      <td>89.345489</td>\n",
       "      <td>0.025912</td>\n",
       "      <td>Indonesian</td>\n",
       "    </tr>\n",
       "    <tr>\n",
       "      <th>6</th>\n",
       "      <td>it</td>\n",
       "      <td>37.542857</td>\n",
       "      <td>79.690476</td>\n",
       "      <td>310.280952</td>\n",
       "      <td>79.342857</td>\n",
       "      <td>0.028571</td>\n",
       "      <td>Italian</td>\n",
       "    </tr>\n",
       "    <tr>\n",
       "      <th>7</th>\n",
       "      <td>ja</td>\n",
       "      <td>105.637848</td>\n",
       "      <td>123.972142</td>\n",
       "      <td>2705.913545</td>\n",
       "      <td>123.537944</td>\n",
       "      <td>0.047550</td>\n",
       "      <td>Japanese</td>\n",
       "    </tr>\n",
       "    <tr>\n",
       "      <th>8</th>\n",
       "      <td>ko</td>\n",
       "      <td>23.278049</td>\n",
       "      <td>47.878049</td>\n",
       "      <td>254.770732</td>\n",
       "      <td>47.800000</td>\n",
       "      <td>0.017073</td>\n",
       "      <td>Korean</td>\n",
       "    </tr>\n",
       "    <tr>\n",
       "      <th>9</th>\n",
       "      <td>nl</td>\n",
       "      <td>63.635514</td>\n",
       "      <td>84.560748</td>\n",
       "      <td>1297.570093</td>\n",
       "      <td>84.364486</td>\n",
       "      <td>0.051402</td>\n",
       "      <td>Dutch</td>\n",
       "    </tr>\n",
       "    <tr>\n",
       "      <th>10</th>\n",
       "      <td>pt</td>\n",
       "      <td>129.308656</td>\n",
       "      <td>124.325740</td>\n",
       "      <td>905.523918</td>\n",
       "      <td>124.014806</td>\n",
       "      <td>0.030182</td>\n",
       "      <td>Portuguese</td>\n",
       "    </tr>\n",
       "    <tr>\n",
       "      <th>11</th>\n",
       "      <td>ru</td>\n",
       "      <td>80.333333</td>\n",
       "      <td>134.877333</td>\n",
       "      <td>280.381333</td>\n",
       "      <td>137.496000</td>\n",
       "      <td>0.005333</td>\n",
       "      <td>Russian</td>\n",
       "    </tr>\n",
       "    <tr>\n",
       "      <th>12</th>\n",
       "      <td>tr</td>\n",
       "      <td>135.216783</td>\n",
       "      <td>169.480186</td>\n",
       "      <td>332.692308</td>\n",
       "      <td>168.230769</td>\n",
       "      <td>0.032634</td>\n",
       "      <td>Turkish</td>\n",
       "    </tr>\n",
       "  </tbody>\n",
       "</table>\n",
       "</div>"
      ],
      "text/plain": [
       "   lang_normalized  followers_count  friends_count  statuses_count  \\\n",
       "0               ar       211.878505     194.623498      803.088117   \n",
       "1               de       101.870968     150.225806      175.206452   \n",
       "2               en       106.940069     107.038304      705.102970   \n",
       "3               es        72.689796     122.801633      577.271429   \n",
       "4               fr        52.528037      78.121495      441.957944   \n",
       "5               id        58.253359      89.600768      644.166987   \n",
       "6               it        37.542857      79.690476      310.280952   \n",
       "7               ja       105.637848     123.972142     2705.913545   \n",
       "8               ko        23.278049      47.878049      254.770732   \n",
       "9               nl        63.635514      84.560748     1297.570093   \n",
       "10              pt       129.308656     124.325740      905.523918   \n",
       "11              ru        80.333333     134.877333      280.381333   \n",
       "12              tr       135.216783     169.480186      332.692308   \n",
       "\n",
       "    followees_count  medianRetweet lang_readable  \n",
       "0        193.311081       0.058745        Arabic  \n",
       "1        150.600000       0.019355        German  \n",
       "2        106.847321       0.029159       English  \n",
       "3        122.566531       0.029796       Spanish  \n",
       "4         77.766355       0.021028        Franch  \n",
       "5         89.345489       0.025912    Indonesian  \n",
       "6         79.342857       0.028571       Italian  \n",
       "7        123.537944       0.047550      Japanese  \n",
       "8         47.800000       0.017073        Korean  \n",
       "9         84.364486       0.051402         Dutch  \n",
       "10       124.014806       0.030182    Portuguese  \n",
       "11       137.496000       0.005333       Russian  \n",
       "12       168.230769       0.032634       Turkish  "
      ]
     },
     "execution_count": 186,
     "metadata": {},
     "output_type": "execute_result"
    }
   ],
   "source": [
    "data_lang"
   ]
  },
  {
   "cell_type": "code",
   "execution_count": 192,
   "metadata": {},
   "outputs": [
    {
     "data": {
      "application/vnd.plotly.v1+json": {
       "config": {
        "plotlyServerURL": "https://plot.ly"
       },
       "data": [
        {
         "domain": {
          "x": [
           0,
           0.45
          ],
          "y": [
           0,
           1
          ]
         },
         "hole": 0.4,
         "hoverinfo": "label+percent+name",
         "labels": [
          "Arabic",
          "German",
          "English",
          "Spanish",
          "Franch",
          "Indonesian",
          "Italian",
          "Japanese",
          "Korean",
          "Dutch",
          "Portuguese",
          "Russian",
          "Turkish"
         ],
         "name": "Averaged median retweet count",
         "textinfo": "value",
         "type": "pie",
         "values": [
          0.06,
          0.02,
          0.03,
          0.03,
          0.02,
          0.03,
          0.03,
          0.05,
          0.02,
          0.05,
          0.03,
          0.01,
          0.03
         ]
        },
        {
         "domain": {
          "x": [
           0.55,
           1
          ],
          "y": [
           0,
           1
          ]
         },
         "hole": 0.4,
         "hoverinfo": "label+percent+name",
         "labels": [
          "Arabic",
          "German",
          "English",
          "Spanish",
          "Franch",
          "Indonesian",
          "Italian",
          "Japanese",
          "Korean",
          "Dutch",
          "Portuguese",
          "Russian",
          "Turkish"
         ],
         "name": "Averaged followers count",
         "textinfo": "value",
         "type": "pie",
         "values": [
          211.88,
          101.87,
          106.94,
          72.69,
          52.53,
          58.25,
          37.54,
          105.64,
          23.28,
          63.64,
          129.31,
          80.33,
          135.22
         ]
        }
       ],
       "layout": {
        "annotations": [
         {
          "font": {
           "size": 20
          },
          "showarrow": false,
          "text": "retweets",
          "x": 0.18,
          "y": 0.5
         },
         {
          "font": {
           "size": 20
          },
          "showarrow": false,
          "text": "followers",
          "x": 0.82,
          "y": 0.5
         }
        ],
        "template": {
         "data": {
          "bar": [
           {
            "error_x": {
             "color": "#2a3f5f"
            },
            "error_y": {
             "color": "#2a3f5f"
            },
            "marker": {
             "line": {
              "color": "#E5ECF6",
              "width": 0.5
             }
            },
            "type": "bar"
           }
          ],
          "barpolar": [
           {
            "marker": {
             "line": {
              "color": "#E5ECF6",
              "width": 0.5
             }
            },
            "type": "barpolar"
           }
          ],
          "carpet": [
           {
            "aaxis": {
             "endlinecolor": "#2a3f5f",
             "gridcolor": "white",
             "linecolor": "white",
             "minorgridcolor": "white",
             "startlinecolor": "#2a3f5f"
            },
            "baxis": {
             "endlinecolor": "#2a3f5f",
             "gridcolor": "white",
             "linecolor": "white",
             "minorgridcolor": "white",
             "startlinecolor": "#2a3f5f"
            },
            "type": "carpet"
           }
          ],
          "choropleth": [
           {
            "colorbar": {
             "outlinewidth": 0,
             "ticks": ""
            },
            "type": "choropleth"
           }
          ],
          "contour": [
           {
            "colorbar": {
             "outlinewidth": 0,
             "ticks": ""
            },
            "colorscale": [
             [
              0,
              "#0d0887"
             ],
             [
              0.1111111111111111,
              "#46039f"
             ],
             [
              0.2222222222222222,
              "#7201a8"
             ],
             [
              0.3333333333333333,
              "#9c179e"
             ],
             [
              0.4444444444444444,
              "#bd3786"
             ],
             [
              0.5555555555555556,
              "#d8576b"
             ],
             [
              0.6666666666666666,
              "#ed7953"
             ],
             [
              0.7777777777777778,
              "#fb9f3a"
             ],
             [
              0.8888888888888888,
              "#fdca26"
             ],
             [
              1,
              "#f0f921"
             ]
            ],
            "type": "contour"
           }
          ],
          "contourcarpet": [
           {
            "colorbar": {
             "outlinewidth": 0,
             "ticks": ""
            },
            "type": "contourcarpet"
           }
          ],
          "heatmap": [
           {
            "colorbar": {
             "outlinewidth": 0,
             "ticks": ""
            },
            "colorscale": [
             [
              0,
              "#0d0887"
             ],
             [
              0.1111111111111111,
              "#46039f"
             ],
             [
              0.2222222222222222,
              "#7201a8"
             ],
             [
              0.3333333333333333,
              "#9c179e"
             ],
             [
              0.4444444444444444,
              "#bd3786"
             ],
             [
              0.5555555555555556,
              "#d8576b"
             ],
             [
              0.6666666666666666,
              "#ed7953"
             ],
             [
              0.7777777777777778,
              "#fb9f3a"
             ],
             [
              0.8888888888888888,
              "#fdca26"
             ],
             [
              1,
              "#f0f921"
             ]
            ],
            "type": "heatmap"
           }
          ],
          "heatmapgl": [
           {
            "colorbar": {
             "outlinewidth": 0,
             "ticks": ""
            },
            "colorscale": [
             [
              0,
              "#0d0887"
             ],
             [
              0.1111111111111111,
              "#46039f"
             ],
             [
              0.2222222222222222,
              "#7201a8"
             ],
             [
              0.3333333333333333,
              "#9c179e"
             ],
             [
              0.4444444444444444,
              "#bd3786"
             ],
             [
              0.5555555555555556,
              "#d8576b"
             ],
             [
              0.6666666666666666,
              "#ed7953"
             ],
             [
              0.7777777777777778,
              "#fb9f3a"
             ],
             [
              0.8888888888888888,
              "#fdca26"
             ],
             [
              1,
              "#f0f921"
             ]
            ],
            "type": "heatmapgl"
           }
          ],
          "histogram": [
           {
            "marker": {
             "colorbar": {
              "outlinewidth": 0,
              "ticks": ""
             }
            },
            "type": "histogram"
           }
          ],
          "histogram2d": [
           {
            "colorbar": {
             "outlinewidth": 0,
             "ticks": ""
            },
            "colorscale": [
             [
              0,
              "#0d0887"
             ],
             [
              0.1111111111111111,
              "#46039f"
             ],
             [
              0.2222222222222222,
              "#7201a8"
             ],
             [
              0.3333333333333333,
              "#9c179e"
             ],
             [
              0.4444444444444444,
              "#bd3786"
             ],
             [
              0.5555555555555556,
              "#d8576b"
             ],
             [
              0.6666666666666666,
              "#ed7953"
             ],
             [
              0.7777777777777778,
              "#fb9f3a"
             ],
             [
              0.8888888888888888,
              "#fdca26"
             ],
             [
              1,
              "#f0f921"
             ]
            ],
            "type": "histogram2d"
           }
          ],
          "histogram2dcontour": [
           {
            "colorbar": {
             "outlinewidth": 0,
             "ticks": ""
            },
            "colorscale": [
             [
              0,
              "#0d0887"
             ],
             [
              0.1111111111111111,
              "#46039f"
             ],
             [
              0.2222222222222222,
              "#7201a8"
             ],
             [
              0.3333333333333333,
              "#9c179e"
             ],
             [
              0.4444444444444444,
              "#bd3786"
             ],
             [
              0.5555555555555556,
              "#d8576b"
             ],
             [
              0.6666666666666666,
              "#ed7953"
             ],
             [
              0.7777777777777778,
              "#fb9f3a"
             ],
             [
              0.8888888888888888,
              "#fdca26"
             ],
             [
              1,
              "#f0f921"
             ]
            ],
            "type": "histogram2dcontour"
           }
          ],
          "mesh3d": [
           {
            "colorbar": {
             "outlinewidth": 0,
             "ticks": ""
            },
            "type": "mesh3d"
           }
          ],
          "parcoords": [
           {
            "line": {
             "colorbar": {
              "outlinewidth": 0,
              "ticks": ""
             }
            },
            "type": "parcoords"
           }
          ],
          "pie": [
           {
            "automargin": true,
            "type": "pie"
           }
          ],
          "scatter": [
           {
            "marker": {
             "colorbar": {
              "outlinewidth": 0,
              "ticks": ""
             }
            },
            "type": "scatter"
           }
          ],
          "scatter3d": [
           {
            "line": {
             "colorbar": {
              "outlinewidth": 0,
              "ticks": ""
             }
            },
            "marker": {
             "colorbar": {
              "outlinewidth": 0,
              "ticks": ""
             }
            },
            "type": "scatter3d"
           }
          ],
          "scattercarpet": [
           {
            "marker": {
             "colorbar": {
              "outlinewidth": 0,
              "ticks": ""
             }
            },
            "type": "scattercarpet"
           }
          ],
          "scattergeo": [
           {
            "marker": {
             "colorbar": {
              "outlinewidth": 0,
              "ticks": ""
             }
            },
            "type": "scattergeo"
           }
          ],
          "scattergl": [
           {
            "marker": {
             "colorbar": {
              "outlinewidth": 0,
              "ticks": ""
             }
            },
            "type": "scattergl"
           }
          ],
          "scattermapbox": [
           {
            "marker": {
             "colorbar": {
              "outlinewidth": 0,
              "ticks": ""
             }
            },
            "type": "scattermapbox"
           }
          ],
          "scatterpolar": [
           {
            "marker": {
             "colorbar": {
              "outlinewidth": 0,
              "ticks": ""
             }
            },
            "type": "scatterpolar"
           }
          ],
          "scatterpolargl": [
           {
            "marker": {
             "colorbar": {
              "outlinewidth": 0,
              "ticks": ""
             }
            },
            "type": "scatterpolargl"
           }
          ],
          "scatterternary": [
           {
            "marker": {
             "colorbar": {
              "outlinewidth": 0,
              "ticks": ""
             }
            },
            "type": "scatterternary"
           }
          ],
          "surface": [
           {
            "colorbar": {
             "outlinewidth": 0,
             "ticks": ""
            },
            "colorscale": [
             [
              0,
              "#0d0887"
             ],
             [
              0.1111111111111111,
              "#46039f"
             ],
             [
              0.2222222222222222,
              "#7201a8"
             ],
             [
              0.3333333333333333,
              "#9c179e"
             ],
             [
              0.4444444444444444,
              "#bd3786"
             ],
             [
              0.5555555555555556,
              "#d8576b"
             ],
             [
              0.6666666666666666,
              "#ed7953"
             ],
             [
              0.7777777777777778,
              "#fb9f3a"
             ],
             [
              0.8888888888888888,
              "#fdca26"
             ],
             [
              1,
              "#f0f921"
             ]
            ],
            "type": "surface"
           }
          ],
          "table": [
           {
            "cells": {
             "fill": {
              "color": "#EBF0F8"
             },
             "line": {
              "color": "white"
             }
            },
            "header": {
             "fill": {
              "color": "#C8D4E3"
             },
             "line": {
              "color": "white"
             }
            },
            "type": "table"
           }
          ]
         },
         "layout": {
          "annotationdefaults": {
           "arrowcolor": "#2a3f5f",
           "arrowhead": 0,
           "arrowwidth": 1
          },
          "coloraxis": {
           "colorbar": {
            "outlinewidth": 0,
            "ticks": ""
           }
          },
          "colorscale": {
           "diverging": [
            [
             0,
             "#8e0152"
            ],
            [
             0.1,
             "#c51b7d"
            ],
            [
             0.2,
             "#de77ae"
            ],
            [
             0.3,
             "#f1b6da"
            ],
            [
             0.4,
             "#fde0ef"
            ],
            [
             0.5,
             "#f7f7f7"
            ],
            [
             0.6,
             "#e6f5d0"
            ],
            [
             0.7,
             "#b8e186"
            ],
            [
             0.8,
             "#7fbc41"
            ],
            [
             0.9,
             "#4d9221"
            ],
            [
             1,
             "#276419"
            ]
           ],
           "sequential": [
            [
             0,
             "#0d0887"
            ],
            [
             0.1111111111111111,
             "#46039f"
            ],
            [
             0.2222222222222222,
             "#7201a8"
            ],
            [
             0.3333333333333333,
             "#9c179e"
            ],
            [
             0.4444444444444444,
             "#bd3786"
            ],
            [
             0.5555555555555556,
             "#d8576b"
            ],
            [
             0.6666666666666666,
             "#ed7953"
            ],
            [
             0.7777777777777778,
             "#fb9f3a"
            ],
            [
             0.8888888888888888,
             "#fdca26"
            ],
            [
             1,
             "#f0f921"
            ]
           ],
           "sequentialminus": [
            [
             0,
             "#0d0887"
            ],
            [
             0.1111111111111111,
             "#46039f"
            ],
            [
             0.2222222222222222,
             "#7201a8"
            ],
            [
             0.3333333333333333,
             "#9c179e"
            ],
            [
             0.4444444444444444,
             "#bd3786"
            ],
            [
             0.5555555555555556,
             "#d8576b"
            ],
            [
             0.6666666666666666,
             "#ed7953"
            ],
            [
             0.7777777777777778,
             "#fb9f3a"
            ],
            [
             0.8888888888888888,
             "#fdca26"
            ],
            [
             1,
             "#f0f921"
            ]
           ]
          },
          "colorway": [
           "#636efa",
           "#EF553B",
           "#00cc96",
           "#ab63fa",
           "#FFA15A",
           "#19d3f3",
           "#FF6692",
           "#B6E880",
           "#FF97FF",
           "#FECB52"
          ],
          "font": {
           "color": "#2a3f5f"
          },
          "geo": {
           "bgcolor": "white",
           "lakecolor": "white",
           "landcolor": "#E5ECF6",
           "showlakes": true,
           "showland": true,
           "subunitcolor": "white"
          },
          "hoverlabel": {
           "align": "left"
          },
          "hovermode": "closest",
          "mapbox": {
           "style": "light"
          },
          "paper_bgcolor": "white",
          "plot_bgcolor": "#E5ECF6",
          "polar": {
           "angularaxis": {
            "gridcolor": "white",
            "linecolor": "white",
            "ticks": ""
           },
           "bgcolor": "#E5ECF6",
           "radialaxis": {
            "gridcolor": "white",
            "linecolor": "white",
            "ticks": ""
           }
          },
          "scene": {
           "xaxis": {
            "backgroundcolor": "#E5ECF6",
            "gridcolor": "white",
            "gridwidth": 2,
            "linecolor": "white",
            "showbackground": true,
            "ticks": "",
            "zerolinecolor": "white"
           },
           "yaxis": {
            "backgroundcolor": "#E5ECF6",
            "gridcolor": "white",
            "gridwidth": 2,
            "linecolor": "white",
            "showbackground": true,
            "ticks": "",
            "zerolinecolor": "white"
           },
           "zaxis": {
            "backgroundcolor": "#E5ECF6",
            "gridcolor": "white",
            "gridwidth": 2,
            "linecolor": "white",
            "showbackground": true,
            "ticks": "",
            "zerolinecolor": "white"
           }
          },
          "shapedefaults": {
           "line": {
            "color": "#2a3f5f"
           }
          },
          "ternary": {
           "aaxis": {
            "gridcolor": "white",
            "linecolor": "white",
            "ticks": ""
           },
           "baxis": {
            "gridcolor": "white",
            "linecolor": "white",
            "ticks": ""
           },
           "bgcolor": "#E5ECF6",
           "caxis": {
            "gridcolor": "white",
            "linecolor": "white",
            "ticks": ""
           }
          },
          "title": {
           "x": 0.05
          },
          "xaxis": {
           "automargin": true,
           "gridcolor": "white",
           "linecolor": "white",
           "ticks": "",
           "title": {
            "standoff": 15
           },
           "zerolinecolor": "white",
           "zerolinewidth": 2
          },
          "yaxis": {
           "automargin": true,
           "gridcolor": "white",
           "linecolor": "white",
           "ticks": "",
           "title": {
            "standoff": 15
           },
           "zerolinecolor": "white",
           "zerolinewidth": 2
          }
         }
        },
        "title": {
         "text": "averaged retweet count and followers count of different language speakers"
        }
       }
      },
      "text/html": [
       "<div>                            <div id=\"a435a7a9-8959-4100-a538-56eca7e578c0\" class=\"plotly-graph-div\" style=\"height:525px; width:100%;\"></div>            <script type=\"text/javascript\">                require([\"plotly\"], function(Plotly) {                    window.PLOTLYENV=window.PLOTLYENV || {};                                    if (document.getElementById(\"a435a7a9-8959-4100-a538-56eca7e578c0\")) {                    Plotly.newPlot(                        \"a435a7a9-8959-4100-a538-56eca7e578c0\",                        [{\"domain\": {\"x\": [0.0, 0.45], \"y\": [0.0, 1.0]}, \"hole\": 0.4, \"hoverinfo\": \"label+percent+name\", \"labels\": [\"Arabic\", \"German\", \"English\", \"Spanish\", \"Franch\", \"Indonesian\", \"Italian\", \"Japanese\", \"Korean\", \"Dutch\", \"Portuguese\", \"Russian\", \"Turkish\"], \"name\": \"Averaged median retweet count\", \"textinfo\": \"value\", \"type\": \"pie\", \"values\": [0.06, 0.02, 0.03, 0.03, 0.02, 0.03, 0.03, 0.05, 0.02, 0.05, 0.03, 0.01, 0.03]}, {\"domain\": {\"x\": [0.55, 1.0], \"y\": [0.0, 1.0]}, \"hole\": 0.4, \"hoverinfo\": \"label+percent+name\", \"labels\": [\"Arabic\", \"German\", \"English\", \"Spanish\", \"Franch\", \"Indonesian\", \"Italian\", \"Japanese\", \"Korean\", \"Dutch\", \"Portuguese\", \"Russian\", \"Turkish\"], \"name\": \"Averaged followers count\", \"textinfo\": \"value\", \"type\": \"pie\", \"values\": [211.88, 101.87, 106.94, 72.69, 52.53, 58.25, 37.54, 105.64, 23.28, 63.64, 129.31, 80.33, 135.22]}],                        {\"annotations\": [{\"font\": {\"size\": 20}, \"showarrow\": false, \"text\": \"retweets\", \"x\": 0.18, \"y\": 0.5}, {\"font\": {\"size\": 20}, \"showarrow\": false, \"text\": \"followers\", \"x\": 0.82, \"y\": 0.5}], \"template\": {\"data\": {\"bar\": [{\"error_x\": {\"color\": \"#2a3f5f\"}, \"error_y\": {\"color\": \"#2a3f5f\"}, \"marker\": {\"line\": {\"color\": \"#E5ECF6\", \"width\": 0.5}}, \"type\": \"bar\"}], \"barpolar\": [{\"marker\": {\"line\": {\"color\": \"#E5ECF6\", \"width\": 0.5}}, \"type\": \"barpolar\"}], \"carpet\": [{\"aaxis\": {\"endlinecolor\": \"#2a3f5f\", \"gridcolor\": \"white\", \"linecolor\": \"white\", \"minorgridcolor\": \"white\", \"startlinecolor\": \"#2a3f5f\"}, \"baxis\": {\"endlinecolor\": \"#2a3f5f\", \"gridcolor\": \"white\", \"linecolor\": \"white\", \"minorgridcolor\": \"white\", \"startlinecolor\": \"#2a3f5f\"}, \"type\": \"carpet\"}], \"choropleth\": [{\"colorbar\": {\"outlinewidth\": 0, \"ticks\": \"\"}, \"type\": \"choropleth\"}], \"contour\": [{\"colorbar\": {\"outlinewidth\": 0, \"ticks\": \"\"}, \"colorscale\": [[0.0, \"#0d0887\"], [0.1111111111111111, \"#46039f\"], [0.2222222222222222, \"#7201a8\"], [0.3333333333333333, \"#9c179e\"], [0.4444444444444444, \"#bd3786\"], [0.5555555555555556, \"#d8576b\"], [0.6666666666666666, \"#ed7953\"], [0.7777777777777778, \"#fb9f3a\"], [0.8888888888888888, \"#fdca26\"], [1.0, \"#f0f921\"]], \"type\": \"contour\"}], \"contourcarpet\": [{\"colorbar\": {\"outlinewidth\": 0, \"ticks\": \"\"}, \"type\": \"contourcarpet\"}], \"heatmap\": [{\"colorbar\": {\"outlinewidth\": 0, \"ticks\": \"\"}, \"colorscale\": [[0.0, \"#0d0887\"], [0.1111111111111111, \"#46039f\"], [0.2222222222222222, \"#7201a8\"], [0.3333333333333333, \"#9c179e\"], [0.4444444444444444, \"#bd3786\"], [0.5555555555555556, \"#d8576b\"], [0.6666666666666666, \"#ed7953\"], [0.7777777777777778, \"#fb9f3a\"], [0.8888888888888888, \"#fdca26\"], [1.0, \"#f0f921\"]], \"type\": \"heatmap\"}], \"heatmapgl\": [{\"colorbar\": {\"outlinewidth\": 0, \"ticks\": \"\"}, \"colorscale\": [[0.0, \"#0d0887\"], [0.1111111111111111, \"#46039f\"], [0.2222222222222222, \"#7201a8\"], [0.3333333333333333, \"#9c179e\"], [0.4444444444444444, \"#bd3786\"], [0.5555555555555556, \"#d8576b\"], [0.6666666666666666, \"#ed7953\"], [0.7777777777777778, \"#fb9f3a\"], [0.8888888888888888, \"#fdca26\"], [1.0, \"#f0f921\"]], \"type\": \"heatmapgl\"}], \"histogram\": [{\"marker\": {\"colorbar\": {\"outlinewidth\": 0, \"ticks\": \"\"}}, \"type\": \"histogram\"}], \"histogram2d\": [{\"colorbar\": {\"outlinewidth\": 0, \"ticks\": \"\"}, \"colorscale\": [[0.0, \"#0d0887\"], [0.1111111111111111, \"#46039f\"], [0.2222222222222222, \"#7201a8\"], [0.3333333333333333, \"#9c179e\"], [0.4444444444444444, \"#bd3786\"], [0.5555555555555556, \"#d8576b\"], [0.6666666666666666, \"#ed7953\"], [0.7777777777777778, \"#fb9f3a\"], [0.8888888888888888, \"#fdca26\"], [1.0, \"#f0f921\"]], \"type\": \"histogram2d\"}], \"histogram2dcontour\": [{\"colorbar\": {\"outlinewidth\": 0, \"ticks\": \"\"}, \"colorscale\": [[0.0, \"#0d0887\"], [0.1111111111111111, \"#46039f\"], [0.2222222222222222, \"#7201a8\"], [0.3333333333333333, \"#9c179e\"], [0.4444444444444444, \"#bd3786\"], [0.5555555555555556, \"#d8576b\"], [0.6666666666666666, \"#ed7953\"], [0.7777777777777778, \"#fb9f3a\"], [0.8888888888888888, \"#fdca26\"], [1.0, \"#f0f921\"]], \"type\": \"histogram2dcontour\"}], \"mesh3d\": [{\"colorbar\": {\"outlinewidth\": 0, \"ticks\": \"\"}, \"type\": \"mesh3d\"}], \"parcoords\": [{\"line\": {\"colorbar\": {\"outlinewidth\": 0, \"ticks\": \"\"}}, \"type\": \"parcoords\"}], \"pie\": [{\"automargin\": true, \"type\": \"pie\"}], \"scatter\": [{\"marker\": {\"colorbar\": {\"outlinewidth\": 0, \"ticks\": \"\"}}, \"type\": \"scatter\"}], \"scatter3d\": [{\"line\": {\"colorbar\": {\"outlinewidth\": 0, \"ticks\": \"\"}}, \"marker\": {\"colorbar\": {\"outlinewidth\": 0, \"ticks\": \"\"}}, \"type\": \"scatter3d\"}], \"scattercarpet\": [{\"marker\": {\"colorbar\": {\"outlinewidth\": 0, \"ticks\": \"\"}}, \"type\": \"scattercarpet\"}], \"scattergeo\": [{\"marker\": {\"colorbar\": {\"outlinewidth\": 0, \"ticks\": \"\"}}, \"type\": \"scattergeo\"}], \"scattergl\": [{\"marker\": {\"colorbar\": {\"outlinewidth\": 0, \"ticks\": \"\"}}, \"type\": \"scattergl\"}], \"scattermapbox\": [{\"marker\": {\"colorbar\": {\"outlinewidth\": 0, \"ticks\": \"\"}}, \"type\": \"scattermapbox\"}], \"scatterpolar\": [{\"marker\": {\"colorbar\": {\"outlinewidth\": 0, \"ticks\": \"\"}}, \"type\": \"scatterpolar\"}], \"scatterpolargl\": [{\"marker\": {\"colorbar\": {\"outlinewidth\": 0, \"ticks\": \"\"}}, \"type\": \"scatterpolargl\"}], \"scatterternary\": [{\"marker\": {\"colorbar\": {\"outlinewidth\": 0, \"ticks\": \"\"}}, \"type\": \"scatterternary\"}], \"surface\": [{\"colorbar\": {\"outlinewidth\": 0, \"ticks\": \"\"}, \"colorscale\": [[0.0, \"#0d0887\"], [0.1111111111111111, \"#46039f\"], [0.2222222222222222, \"#7201a8\"], [0.3333333333333333, \"#9c179e\"], [0.4444444444444444, \"#bd3786\"], [0.5555555555555556, \"#d8576b\"], [0.6666666666666666, \"#ed7953\"], [0.7777777777777778, \"#fb9f3a\"], [0.8888888888888888, \"#fdca26\"], [1.0, \"#f0f921\"]], \"type\": \"surface\"}], \"table\": [{\"cells\": {\"fill\": {\"color\": \"#EBF0F8\"}, \"line\": {\"color\": \"white\"}}, \"header\": {\"fill\": {\"color\": \"#C8D4E3\"}, \"line\": {\"color\": \"white\"}}, \"type\": \"table\"}]}, \"layout\": {\"annotationdefaults\": {\"arrowcolor\": \"#2a3f5f\", \"arrowhead\": 0, \"arrowwidth\": 1}, \"coloraxis\": {\"colorbar\": {\"outlinewidth\": 0, \"ticks\": \"\"}}, \"colorscale\": {\"diverging\": [[0, \"#8e0152\"], [0.1, \"#c51b7d\"], [0.2, \"#de77ae\"], [0.3, \"#f1b6da\"], [0.4, \"#fde0ef\"], [0.5, \"#f7f7f7\"], [0.6, \"#e6f5d0\"], [0.7, \"#b8e186\"], [0.8, \"#7fbc41\"], [0.9, \"#4d9221\"], [1, \"#276419\"]], \"sequential\": [[0.0, \"#0d0887\"], [0.1111111111111111, \"#46039f\"], [0.2222222222222222, \"#7201a8\"], [0.3333333333333333, \"#9c179e\"], [0.4444444444444444, \"#bd3786\"], [0.5555555555555556, \"#d8576b\"], [0.6666666666666666, \"#ed7953\"], [0.7777777777777778, \"#fb9f3a\"], [0.8888888888888888, \"#fdca26\"], [1.0, \"#f0f921\"]], \"sequentialminus\": [[0.0, \"#0d0887\"], [0.1111111111111111, \"#46039f\"], [0.2222222222222222, \"#7201a8\"], [0.3333333333333333, \"#9c179e\"], [0.4444444444444444, \"#bd3786\"], [0.5555555555555556, \"#d8576b\"], [0.6666666666666666, \"#ed7953\"], [0.7777777777777778, \"#fb9f3a\"], [0.8888888888888888, \"#fdca26\"], [1.0, \"#f0f921\"]]}, \"colorway\": [\"#636efa\", \"#EF553B\", \"#00cc96\", \"#ab63fa\", \"#FFA15A\", \"#19d3f3\", \"#FF6692\", \"#B6E880\", \"#FF97FF\", \"#FECB52\"], \"font\": {\"color\": \"#2a3f5f\"}, \"geo\": {\"bgcolor\": \"white\", \"lakecolor\": \"white\", \"landcolor\": \"#E5ECF6\", \"showlakes\": true, \"showland\": true, \"subunitcolor\": \"white\"}, \"hoverlabel\": {\"align\": \"left\"}, \"hovermode\": \"closest\", \"mapbox\": {\"style\": \"light\"}, \"paper_bgcolor\": \"white\", \"plot_bgcolor\": \"#E5ECF6\", \"polar\": {\"angularaxis\": {\"gridcolor\": \"white\", \"linecolor\": \"white\", \"ticks\": \"\"}, \"bgcolor\": \"#E5ECF6\", \"radialaxis\": {\"gridcolor\": \"white\", \"linecolor\": \"white\", \"ticks\": \"\"}}, \"scene\": {\"xaxis\": {\"backgroundcolor\": \"#E5ECF6\", \"gridcolor\": \"white\", \"gridwidth\": 2, \"linecolor\": \"white\", \"showbackground\": true, \"ticks\": \"\", \"zerolinecolor\": \"white\"}, \"yaxis\": {\"backgroundcolor\": \"#E5ECF6\", \"gridcolor\": \"white\", \"gridwidth\": 2, \"linecolor\": \"white\", \"showbackground\": true, \"ticks\": \"\", \"zerolinecolor\": \"white\"}, \"zaxis\": {\"backgroundcolor\": \"#E5ECF6\", \"gridcolor\": \"white\", \"gridwidth\": 2, \"linecolor\": \"white\", \"showbackground\": true, \"ticks\": \"\", \"zerolinecolor\": \"white\"}}, \"shapedefaults\": {\"line\": {\"color\": \"#2a3f5f\"}}, \"ternary\": {\"aaxis\": {\"gridcolor\": \"white\", \"linecolor\": \"white\", \"ticks\": \"\"}, \"baxis\": {\"gridcolor\": \"white\", \"linecolor\": \"white\", \"ticks\": \"\"}, \"bgcolor\": \"#E5ECF6\", \"caxis\": {\"gridcolor\": \"white\", \"linecolor\": \"white\", \"ticks\": \"\"}}, \"title\": {\"x\": 0.05}, \"xaxis\": {\"automargin\": true, \"gridcolor\": \"white\", \"linecolor\": \"white\", \"ticks\": \"\", \"title\": {\"standoff\": 15}, \"zerolinecolor\": \"white\", \"zerolinewidth\": 2}, \"yaxis\": {\"automargin\": true, \"gridcolor\": \"white\", \"linecolor\": \"white\", \"ticks\": \"\", \"title\": {\"standoff\": 15}, \"zerolinecolor\": \"white\", \"zerolinewidth\": 2}}}, \"title\": {\"text\": \"averaged retweet count and followers count of different language speakers\"}},                        {\"responsive\": true}                    ).then(function(){\n",
       "                            \n",
       "var gd = document.getElementById('a435a7a9-8959-4100-a538-56eca7e578c0');\n",
       "var x = new MutationObserver(function (mutations, observer) {{\n",
       "        var display = window.getComputedStyle(gd).display;\n",
       "        if (!display || display === 'none') {{\n",
       "            console.log([gd, 'removed!']);\n",
       "            Plotly.purge(gd);\n",
       "            observer.disconnect();\n",
       "        }}\n",
       "}});\n",
       "\n",
       "// Listen for the removal of the full notebook cells\n",
       "var notebookContainer = gd.closest('#notebook-container');\n",
       "if (notebookContainer) {{\n",
       "    x.observe(notebookContainer, {childList: true});\n",
       "}}\n",
       "\n",
       "// Listen for the clearing of the current output cell\n",
       "var outputEl = gd.closest('.output');\n",
       "if (outputEl) {{\n",
       "    x.observe(outputEl, {childList: true});\n",
       "}}\n",
       "\n",
       "                        })                };                });            </script>        </div>"
      ]
     },
     "metadata": {},
     "output_type": "display_data"
    }
   ],
   "source": [
    "import plotly.graph_objects as go\n",
    "from plotly.subplots import make_subplots\n",
    "\n",
    "labels = data_lang['lang_readable'].values\n",
    "for col in ['medianRetweet','followers_count']:\n",
    "    data_lang[col+'_rounded'] = round(data_lang[col],2)\n",
    "    \n",
    "\n",
    "# Create subplots: use 'domain' type for Pie subplot\n",
    "fig = make_subplots(rows=1, cols=2, specs=[[{'type':'domain'}, {'type':'domain'}]])\n",
    "fig.add_trace(go.Pie(labels=labels, values=data_lang['medianRetweet_rounded'], name=\"Averaged median retweet count\"),\n",
    "              1, 1)\n",
    "fig.add_trace(go.Pie(labels=labels, values=data_lang['followers_count_rounded'], name=\"Averaged followers count\"),\n",
    "              1, 2)\n",
    "\n",
    "# Use `hole` to create a donut-like pie chart\n",
    "fig.update_traces(hole=.4, hoverinfo=\"label+percent+name\",textinfo='value')\n",
    "\n",
    "fig.update_layout(\n",
    "    title_text=\"averaged retweet count and followers count of different language speakers\",\n",
    "    # Add annotations in the center of the donut pies.\n",
    "    annotations=[dict(text='retweets', x=0.18, y=0.5, font_size=20, showarrow=False),\n",
    "                 dict(text='followers', x=0.82, y=0.5, font_size=20, showarrow=False)])\n",
    "fig.show()"
   ]
  },
  {
   "cell_type": "markdown",
   "metadata": {},
   "source": [
    "Looking at the user language data, we can recognize some patterns in terms of the correlation between user language and user activeness in terms of retweeting. In particular, we can categorize the countries into 3 categories:\n",
    "\n",
    "The fanatics: Arabic speakers have the highest average number of followers count, and they also have the highest retweets frequency among all langauge user groups.\n",
    "\n",
    "The actives: Dutch speaker, and japanese speakers share a common point: they more like to retweet even though they don’t necessarily have a high number of followers count. Which may be explained as they really focus on their favorite followers and keep interacting with them rather than follow many people but remain inactive. Therefore, **if you are Dutch or Japanese speaker, we would suggest you to posting in these languages as your post might get a higher chance of being retweeted by your people!**\n",
    "\n",
    "The silent group: Russian speaker and German speakers are the exact opposite of the previous category. Russian speakers and German speakers they have a high average follower count, which means they are active on this social media. But in the same time they have a low retweet frequqncy, which could be explained as they are more cautious about retweeting what others say. Therefore, **if you are Russian or German speaker, you might like to post in English to change your audiances to those who are more willing to retweet.** :P"
   ]
  },
  {
   "cell_type": "code",
   "execution_count": null,
   "metadata": {},
   "outputs": [],
   "source": []
  }
 ],
 "metadata": {
  "kernelspec": {
   "display_name": "Python 3",
   "language": "python",
   "name": "python3"
  },
  "language_info": {
   "codemirror_mode": {
    "name": "ipython",
    "version": 3
   },
   "file_extension": ".py",
   "mimetype": "text/x-python",
   "name": "python",
   "nbconvert_exporter": "python",
   "pygments_lexer": "ipython3",
   "version": "3.6.2"
  }
 },
 "nbformat": 4,
 "nbformat_minor": 4
}
